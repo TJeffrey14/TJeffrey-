{
  "cells": [
    {
      "cell_type": "markdown",
      "metadata": {
        "id": "view-in-github",
        "colab_type": "text"
      },
      "source": [
        "<a href=\"https://colab.research.google.com/github/TJeffrey14/TJeffrey-/blob/main/scavengerhunt_week7.ipynb\" target=\"_parent\"><img src=\"https://colab.research.google.com/assets/colab-badge.svg\" alt=\"Open In Colab\"/></a>"
      ]
    },
    {
      "cell_type": "markdown",
      "id": "f3d308a0-0d3f-43d3-9dcf-68891e03ca65",
      "metadata": {
        "id": "f3d308a0-0d3f-43d3-9dcf-68891e03ca65"
      },
      "source": [
        "print(\"Welcome to the game\")"
      ]
    },
    {
      "cell_type": "code",
      "execution_count": null,
      "id": "c480210f-9bd5-473b-8f23-23212b8b9279",
      "metadata": {
        "id": "c480210f-9bd5-473b-8f23-23212b8b9279",
        "outputId": "36b6994a-3524-4e44-f0f8-95fde6853184"
      },
      "outputs": [
        {
          "name": "stdout",
          "output_type": "stream",
          "text": [
            "Welcome to the game\n"
          ]
        }
      ],
      "source": [
        "print(\"Welcome to the game\")"
      ]
    },
    {
      "cell_type": "raw",
      "id": "fecfc026-5ec8-4495-ab98-2841d136636d",
      "metadata": {
        "id": "fecfc026-5ec8-4495-ab98-2841d136636d"
      },
      "source": [
        "print(\"Welcome to the game\")"
      ]
    },
    {
      "cell_type": "markdown",
      "source": [
        "# Attempt 1 - 03/11/2024"
      ],
      "metadata": {
        "id": "I5xeNyy7y3_v"
      },
      "id": "I5xeNyy7y3_v"
    },
    {
      "cell_type": "code",
      "execution_count": null,
      "id": "d889ebba-61a9-4299-9fe0-4226e05cc32d",
      "metadata": {
        "id": "d889ebba-61a9-4299-9fe0-4226e05cc32d",
        "outputId": "e31dcca1-423c-45a4-b834-f2346b120faf",
        "colab": {
          "base_uri": "https://localhost:8080/"
        }
      },
      "outputs": [
        {
          "output_type": "stream",
          "name": "stdout",
          "text": [
            "If you catch Bus No.2 it will bring you to an Ethan Allen Statue\n"
          ]
        }
      ],
      "source": [
        "Graveyard = \"01001001 01100110 00100000 01111001 01101111 01110101 00100000 01100011 01100001 01110100 01100011 01101000 00100000 01000010 01110101 01110011 00100000 01001110 01101111 00101110 00110010 00100000 01101001 01110100 00100000 01110111 01101001 01101100 01101100 00100000 01100010 01110010 01101001 01101110 01100111 00100000 01111001 01101111 01110101 00100000 01110100 01101111 00100000 01100001 01101110 00100000 01000101 01110100 01101000 01100001 01101110 00100000 01000001 01101100 01101100 01100101 01101110 00100000 01010011 01110100 01100001 01110100 01110101 01100101\"\n",
        "bytes_list = Graveyard.split()\n",
        "Graveyarded = ''.join(chr(int(byte, 2)) for byte in bytes_list)\n",
        "print(Graveyarded)"
      ]
    },
    {
      "cell_type": "markdown",
      "source": [
        "I just drive there instead of taking the bus\n",
        "\n",
        "I made it\n",
        "By the time I made it up, I'd realized that\n",
        "\n",
        "1- I realized my fuel light turned on\n",
        "2- It was really cold outside\n",
        "\n",
        "Honestly i did not get any pictures\n",
        "At the same time the library was close 03/11/2024 around 8:00 PM\n",
        "\n",
        "The fact that the library was close i have to walk back to the car to warm up a lilttle bit"
      ],
      "metadata": {
        "id": "afx6aJtXldg4"
      },
      "id": "afx6aJtXldg4"
    },
    {
      "cell_type": "code",
      "source": [
        "\n",
        "Trash = \"34342e3438383938312c202d37332e313831353139\"\n",
        "Trash = \"\".join([chr(int(Trash[i:i+2], 16)) for i in range(0, len(Trash), 2)])\n",
        "\n",
        "print(Trash)\n",
        "print(\"Recycle Compost\")"
      ],
      "metadata": {
        "id": "UF24FxdemZf9",
        "outputId": "769c597e-caa6-4c2a-94a4-ff6e89db8601",
        "colab": {
          "base_uri": "https://localhost:8080/"
        }
      },
      "id": "UF24FxdemZf9",
      "execution_count": null,
      "outputs": [
        {
          "output_type": "stream",
          "name": "stdout",
          "text": [
            "44.488981, -73.181519\n",
            "Recycle Compost\n"
          ]
        }
      ]
    },
    {
      "cell_type": "code",
      "source": [
        "Howes_wasclose = \"476f20746f20486f7765204c69627261727920616e64206865616420746f2074686520737461636b73206f6e207468652033726420466c6f6f7220746f2066696e64206f6e65206f662074686520666f6c6c6f77696e6720626f6f6b7320514137362e4d32313435332032303132206f7220514132392e54384135372032303135206f7220514131302e372e4a36372032303232206f7220513333352e4438372032303139206f7220514137362e392e4c36334d333420323031392e205768617420697320746865205469746c65206f66207468697320626f6f6b3f20446f6e277420707574206974206261636b206272696e6720697420746f20746865206c696272617269616e\"\n",
        "Howes_wascloseandcoldoutside= \"\".join([chr(int(Howes_wasclose[i:i+2], 16)) for i in range(0, len(Howes_wasclose), 2)])\n",
        "\n",
        "print(Howes_wasclose)\n",
        "print(\"The library was close and it was cold outside i had walk back my car\")"
      ],
      "metadata": {
        "id": "cgXE6rYOvkJJ",
        "outputId": "4ee2efa3-8992-478e-c056-f4101bec754e",
        "colab": {
          "base_uri": "https://localhost:8080/"
        }
      },
      "id": "cgXE6rYOvkJJ",
      "execution_count": null,
      "outputs": [
        {
          "output_type": "stream",
          "name": "stdout",
          "text": [
            "476f20746f20486f7765204c69627261727920616e64206865616420746f2074686520737461636b73206f6e207468652033726420466c6f6f7220746f2066696e64206f6e65206f662074686520666f6c6c6f77696e6720626f6f6b7320514137362e4d32313435332032303132206f7220514132392e54384135372032303135206f7220514131302e372e4a36372032303232206f7220513333352e4438372032303139206f7220514137362e392e4c36334d333420323031392e205768617420697320746865205469746c65206f66207468697320626f6f6b3f20446f6e277420707574206974206261636b206272696e6720697420746f20746865206c696272617269616e\n",
            "The library was close and it was cold outside i had walk back my car\n"
          ]
        }
      ]
    },
    {
      "cell_type": "markdown",
      "source": [
        "It was my fisrt to the Howe Library and I did not know that the library was close on 03/11/2024 around 8:00 PM. I've got my library from Burnham Library Colchester VT since 2023.\n",
        "Lybrary was I did not get any pictures, I did get the book ."
      ],
      "metadata": {
        "id": "47ldy0NTtvsR"
      },
      "id": "47ldy0NTtvsR"
    },
    {
      "cell_type": "markdown",
      "source": [
        "# Attempt 2 - 03/11/2024"
      ],
      "metadata": {
        "id": "vSkSm6Ipx-aT"
      },
      "id": "vSkSm6Ipx-aT"
    },
    {
      "cell_type": "markdown",
      "source": [
        "I did not know about the museum's schedule, it always close on sunday and monday"
      ],
      "metadata": {
        "id": "pCntTatE18P3"
      },
      "id": "pCntTatE18P3"
    },
    {
      "cell_type": "code",
      "source": [
        "Neverspokeagain = \"01010110 01101001 01110011 01101001 01110100 00100000 01001110 01100101 01110110 01100101 01110010 00100000 01010011 01110000 01101111 01101011 01100101 01101110 00100000 01000001 01100111 01100001 01101001 01101110 00111010 00100000 01010010 01101111 01100111 01110101 01100101 00100000 01010011 01110100 01101111 01110010 01101001 01100101 01110011 00100000 01101111 01100110 00100000 01010011 01100011 01101001 01100101 01101110 01100011 01100101 00100000 01100001 01101110 01100100 00100000 01000011 01101111 01101100 01101100 01100101 01100011 01110100 01101001 01101111 01101110 01110011 00100000 01100001 01110100 00100000 01110100 01101000 01100101 00100000 01000110 01101100 01100101 01110100 01100011 01101000 01100101 01110100 00100000 01100001 01101110 01100100 00100000 01100100 01101111 01100011 01110101 01101101 01100101 01101110 01110100 00100000 01110111 01101000 01101001 01100011 01101000 00100000 01110000 01101001 01100101 01100011 01100101 01110011 00100000 01100011 01100001 01110101 01100111 01101000 01110100 00100000 01111001 01101111 01110101 01110010 00100000 01100001 01110100 01110100 01100101 01101110 01110100 01101001 01101111 01101110 00101110\"\n",
        "bytes_list = Neverspokeagain.split()\n",
        "Neverspokeagain = ''.join(chr(int(byte, 2)) for byte in bytes_list)\n",
        "print(Neverspokeagain)\n",
        "print(\"never been to the museum before and realize the museum was close by checking on google.\")"
      ],
      "metadata": {
        "id": "OloFM_Cg3IUA",
        "outputId": "64565b57-be9b-45b1-e3ad-bb71760395ec",
        "colab": {
          "base_uri": "https://localhost:8080/"
        }
      },
      "id": "OloFM_Cg3IUA",
      "execution_count": null,
      "outputs": [
        {
          "output_type": "stream",
          "name": "stdout",
          "text": [
            "Visit Never Spoken Again: Rogue Stories of Science and Collections at the Fletchet and document which pieces caught your attention.\n",
            "never been to the museum before and realize the museum was close by checking on google.\n"
          ]
        }
      ]
    },
    {
      "cell_type": "code",
      "source": [
        "Howes_wasclose = \"476f20746f20486f7765204c69627261727920616e64206865616420746f2074686520737461636b73206f6e207468652033726420466c6f6f7220746f2066696e64206f6e65206f662074686520666f6c6c6f77696e6720626f6f6b7320514137362e4d32313435332032303132206f7220514132392e54384135372032303135206f7220514131302e372e4a36372032303232206f7220513333352e4438372032303139206f7220514137362e392e4c36334d333420323031392e205768617420697320746865205469746c65206f66207468697320626f6f6b3f20446f6e277420707574206974206261636b206272696e6720697420746f20746865206c696272617269616e\"\n",
        "Howes_wascold= \"\".join([chr(int(Howes_wasclose[i:i+2], 16)) for i in range(0, len(Howes_wasclose), 2)])\n",
        "\n",
        "print(Howes_wascold)"
      ],
      "metadata": {
        "id": "oEujn1Lh5Pgd",
        "outputId": "a97800eb-8038-4395-f5c3-3562d4cf63c2",
        "colab": {
          "base_uri": "https://localhost:8080/"
        }
      },
      "id": "oEujn1Lh5Pgd",
      "execution_count": null,
      "outputs": [
        {
          "output_type": "stream",
          "name": "stdout",
          "text": [
            "Go to Howe Library and head to the stacks on the 3rd Floor to find one of the following books QA76.M21453 2012 or QA29.T8A57 2015 or QA10.7.J67 2022 or Q335.D87 2019 or QA76.9.L63M34 2019. What is the Title of this book? Don't put it back bring it to the librarian\n"
          ]
        }
      ]
    },
    {
      "cell_type": "markdown",
      "source": [
        "The time that i made it to the library, it was close."
      ],
      "metadata": {
        "id": "DW0TSOpR7FLF"
      },
      "id": "DW0TSOpR7FLF"
    },
    {
      "cell_type": "code",
      "source": [
        "Howes_rarecollect = \"53656c65637420616e206974656d2066726f6d20746865205261726520426f6f6b20436f6c6c656374696f6e7320617420486f7765204c6962726172792068747470733a2f2f7370656369616c636f6c6c656374696f6e732e75766d2e6564752f636f6c6c656374696f6e732f726172655f626f6f6b7320616e6420646f63756d656e742074686520636f6c6c656374696f6e20796f752063686f6f736520776974682070686f746f7320616e6420612073686f72742077726974652d75702e\"\n",
        "Howes_online= \"\".join([chr(int(Howes_rarecollect[i:i+2], 16)) for i in range(0, len(Howes_rarecollect), 2)])\n",
        "\n",
        "print(Howes_online)"
      ],
      "metadata": {
        "id": "HtBR_kl88R8n",
        "outputId": "885a4728-ceda-411e-bcbe-8f9d4a62046c",
        "colab": {
          "base_uri": "https://localhost:8080/"
        }
      },
      "id": "HtBR_kl88R8n",
      "execution_count": null,
      "outputs": [
        {
          "output_type": "stream",
          "name": "stdout",
          "text": [
            "Select an item from the Rare Book Collections at Howe Library https://specialcollections.uvm.edu/collections/rare_books and document the collection you choose with photos and a short write-up.\n"
          ]
        }
      ]
    },
    {
      "cell_type": "markdown",
      "source": [
        "Just finished at looking at the collections, i decided to choose <Travel and Exploration of the Americas>\n",
        "This collection offer a captivating journey through the history of exploration in the Americas showing the adventures of early explorers and the lasting impact of their discoveries on the continent.\n",
        "From Christopher Columbus to modern-day adventurers, this collection provides a glimpse into the diverse landscapes, cultures, and histories of the Americas, making it a valuable resource for those interested in the exploration of the New World."
      ],
      "metadata": {
        "id": "lsZcImb0A2bJ"
      },
      "id": "lsZcImb0A2bJ"
    }
  ],
  "metadata": {
    "kernelspec": {
      "display_name": "Python 3 (ipykernel)",
      "language": "python",
      "name": "python3"
    },
    "language_info": {
      "codemirror_mode": {
        "name": "ipython",
        "version": 3
      },
      "file_extension": ".py",
      "mimetype": "text/x-python",
      "name": "python",
      "nbconvert_exporter": "python",
      "pygments_lexer": "ipython3",
      "version": "3.12.2"
    },
    "colab": {
      "provenance": [],
      "include_colab_link": true
    }
  },
  "nbformat": 4,
  "nbformat_minor": 5
}